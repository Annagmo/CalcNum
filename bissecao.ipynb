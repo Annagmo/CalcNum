{
  "nbformat": 4,
  "nbformat_minor": 0,
  "metadata": {
    "colab": {
      "provenance": [],
      "authorship_tag": "ABX9TyMC6JOODAs9ACxBgUMMLHbL",
      "include_colab_link": true
    },
    "kernelspec": {
      "name": "python3",
      "display_name": "Python 3"
    },
    "language_info": {
      "name": "python"
    }
  },
  "cells": [
    {
      "cell_type": "markdown",
      "metadata": {
        "id": "view-in-github",
        "colab_type": "text"
      },
      "source": [
        "<a href=\"https://colab.research.google.com/github/Annagmo/CalcNum/blob/main/bissecao.ipynb\" target=\"_parent\"><img src=\"https://colab.research.google.com/assets/colab-badge.svg\" alt=\"Open In Colab\"/></a>"
      ]
    },
    {
      "cell_type": "code",
      "execution_count": null,
      "metadata": {
        "id": "k2z0UQuoorZw"
      },
      "outputs": [],
      "source": []
    },
    {
      "cell_type": "markdown",
      "source": [
        "#Primeiro notebook de Cálculo Numérico\n",
        "\n",
        "\n",
        "\n",
        "\n",
        "> Aluna: Anna Gabriele\n",
        "\n",
        "\n",
        "\n"
      ],
      "metadata": {
        "id": "ES29blNJo5Qy"
      }
    },
    {
      "cell_type": "markdown",
      "source": [
        "## Função que se deseja encontrar as raízes:\n",
        "f(x) = x^3 - 9x + 5"
      ],
      "metadata": {
        "id": "YeMl8Gveor9b"
      }
    },
    {
      "cell_type": "code",
      "source": [
        "import math\n",
        "f = lambda x : x**3 -9*x + 5"
      ],
      "metadata": {
        "id": "yjVGAWxDo7j6"
      },
      "execution_count": null,
      "outputs": []
    },
    {
      "cell_type": "code",
      "source": [
        "def bissecao (f, a_0, b_0, iteracoes, precisao):\n",
        "\n",
        "  if( f(a_0) * f(b_0) >= 0):"
      ],
      "metadata": {
        "id": "TW-Dq7dNpVi0"
      },
      "execution_count": null,
      "outputs": []
    }
  ]
}