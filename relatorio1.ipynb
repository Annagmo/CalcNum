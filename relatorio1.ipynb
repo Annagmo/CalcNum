{
  "nbformat": 4,
  "nbformat_minor": 0,
  "metadata": {
    "colab": {
      "provenance": [],
      "authorship_tag": "ABX9TyONJlGtG+2bMaZW6UBLWMq0",
      "include_colab_link": true
    },
    "kernelspec": {
      "name": "python3",
      "display_name": "Python 3"
    },
    "language_info": {
      "name": "python"
    }
  },
  "cells": [
    {
      "cell_type": "markdown",
      "metadata": {
        "id": "view-in-github",
        "colab_type": "text"
      },
      "source": [
        "<a href=\"https://colab.research.google.com/github/Annagmo/CalcNum/blob/main/relatorio1.ipynb\" target=\"_parent\"><img src=\"https://colab.research.google.com/assets/colab-badge.svg\" alt=\"Open In Colab\"/></a>"
      ]
    },
    {
      "cell_type": "markdown",
      "source": [
        "#Primeiro notebook de Cálculo Numérico\n",
        "\n",
        "\n",
        "\n",
        "\n",
        "> Aluna: Anna Gabriele\n",
        "\n",
        "\n",
        "\n"
      ],
      "metadata": {
        "id": "ES29blNJo5Qy"
      }
    },
    {
      "cell_type": "markdown",
      "source": [
        "## Função que se deseja encontrar as raízes:\n",
        "f(x) = x^3 - 9x + 5"
      ],
      "metadata": {
        "id": "YeMl8Gveor9b"
      }
    },
    {
      "cell_type": "code",
      "source": [
        "import math\n",
        "f = lambda x : x**3 -9*x + 5"
      ],
      "metadata": {
        "id": "yjVGAWxDo7j6"
      },
      "execution_count": 1,
      "outputs": []
    },
    {
      "cell_type": "markdown",
      "source": [
        "## Método da bissecção:"
      ],
      "metadata": {
        "id": "4uXyTjMxqbxP"
      }
    },
    {
      "cell_type": "code",
      "source": [
        "def bisseccao (f, a, b, iteracoes, precisao):\n",
        "\n",
        "  if ( f(a) * f(b) >= 0):     #Seja f(x) contínua em [a, b] e tal que f(a)f(b)<0\n",
        "    print(\"não é possível realizar o método neste intervalo.\")\n",
        "\n",
        "  for i in range (iteracoes):\n",
        "      x = (a+b)/2\n",
        "      M = f(a)\n",
        "\n",
        "      if ( (b-a) < precisao ):\n",
        "        break\n",
        "      else:\n",
        "        if(M*f(x)>0):\n",
        "          print( '{:<15} {:<15.5f} {:<15.5f} {:<15.5f} {:<15.5f} {:<15.5f} {:<15.5f}'.format((i),  (a), (b), x, (f(x)),  (f(a)), f(a)*f(x)) ) #retorno\n",
        "          a = x\n",
        "        elif(M*f(x)<=0):\n",
        "          #print(str(x)+ str(b))\n",
        "          print( '{:<15} {:<15.5f} {:<15.5f} {:<15.5f} {:<15.5f} {:<15.5f} {:<15.5f}'.format((i),  (a), (b), x, (f(x)),  (f(a)), f(a)*f(x)) ) #retorno\n",
        "          b = x\n",
        "\n"
      ],
      "metadata": {
        "id": "TW-Dq7dNpVi0"
      },
      "execution_count": 82,
      "outputs": []
    },
    {
      "cell_type": "code",
      "source": [
        "print( \"n                 \" + \"a                 \" + \"b             \" + \"x                 \" + \"f(x)          \" + \"f(a)          \" + \"f(a)*f(x) \"   )\n",
        "bisseccao(f, 0.5, 1, 50, 0.01)"
      ],
      "metadata": {
        "id": "0PApqCKDt9P7",
        "colab": {
          "base_uri": "https://localhost:8080/"
        },
        "outputId": "27b0eff9-2478-46b3-cfcf-5b751b9dc71d"
      },
      "execution_count": 81,
      "outputs": [
        {
          "output_type": "stream",
          "name": "stdout",
          "text": [
            "n                 a                 b             x                 f(x)          f(a)          f(a)*f(x) \n",
            "0               0.50000         1.00000         0.75000         -1.32812        0.62500         -0.83008       \n",
            "1               0.50000         0.75000         0.62500         -0.38086        0.62500         -0.23804       \n",
            "2               0.50000         0.62500         0.56250         0.11548         0.62500         0.07217        \n",
            "3               0.56250         0.62500         0.59375         -0.13443        0.11548         -0.01552       \n",
            "4               0.56250         0.59375         0.57812         -0.00990        0.11548         -0.00114       \n",
            "5               0.56250         0.57812         0.57031         0.05269         0.11548         0.00608        \n"
          ]
        }
      ]
    },
    {
      "cell_type": "markdown",
      "source": [
        "## Método da Falsa Posição\n"
      ],
      "metadata": {
        "id": "VJPueRVx5FtF"
      }
    },
    {
      "cell_type": "code",
      "source": [
        "def falsaPosicao(f, a, b, iteracoes, precisao):\n",
        "  if ( f(a) * f(b) >= 0):     #Seja f(x) contínua em [a, b] e tal que f(a)f(b)<0\n",
        "    print(\"não é possível realizar o método neste intervalo.\")\n",
        "\n",
        "  for i in range (iteracoes):\n",
        "      x = ( (a * f(b)) - (b * f(a)) )/ ( f(b) - f(a) )\n",
        "      M = f(a)\n",
        "\n",
        "      if ( abs(f(x)) < precisao ):\n",
        "        break\n",
        "      else:\n",
        "        if(M*f(x)>0):\n",
        "          print( '{:<15} {:<15.5f} {:<15.5f} {:<15.5f} {:<15.5f} {:<15.5f} {:<15.5f}'.format((i),  (a), (b), x, (f(x)),  (f(a)), f(a)*f(x)) ) #retorno\n",
        "          a = x\n",
        "        elif(M*f(x)<=0):\n",
        "          #print(str(x)+ str(b))\n",
        "          print( '{:<15} {:<15.5f} {:<15.5f} {:<15.5f} {:<15.5f} {:<15.5f} {:<15.5f}'.format((i),  (a), (b), x, (f(x)),  (f(a)), f(a)*f(x)) ) #retorno\n",
        "          b = x\n"
      ],
      "metadata": {
        "id": "1JOLOJk15Mu2"
      },
      "execution_count": 106,
      "outputs": []
    },
    {
      "cell_type": "code",
      "source": [
        "print( \"n                 \" + \"a                 \" + \"b             \" + \"x                 \" + \"f(x)          \" + \"f(a)          \" + \"f(a)*f(x) \"   )\n",
        "falsaPosicao(f, 0, 1, 50, 0.0005)"
      ],
      "metadata": {
        "colab": {
          "base_uri": "https://localhost:8080/"
        },
        "id": "mXkdXKDH7a_a",
        "outputId": "e3c4acef-636e-45ca-aafc-24fa0d2fa481"
      },
      "execution_count": 108,
      "outputs": [
        {
          "output_type": "stream",
          "name": "stdout",
          "text": [
            "n                 a                 b             x                 f(x)          f(a)          f(a)*f(x) \n",
            "0               0.00000         1.00000         0.62500         -0.38086        5.00000         -1.90430       \n",
            "1               0.00000         0.62500         0.58076         -0.03098        5.00000         -0.15489       \n",
            "2               0.00000         0.58076         0.57719         -0.00239        5.00000         -0.01195       \n"
          ]
        }
      ]
    }
  ]
}